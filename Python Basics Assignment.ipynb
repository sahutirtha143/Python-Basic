{
 "cells": [
  {
   "cell_type": "code",
   "execution_count": null,
   "id": "054f1126-cb17-4d5e-a204-7ebc872cda30",
   "metadata": {},
   "outputs": [],
   "source": [
    "#************************* Python Basics Questions *************************"
   ]
  },
  {
   "cell_type": "code",
   "execution_count": 24,
   "id": "ee6bba62-c971-4f7b-9570-1ea428256691",
   "metadata": {},
   "outputs": [
    {
     "ename": "IndentationError",
     "evalue": "unexpected indent (4283062924.py, line 2)",
     "output_type": "error",
     "traceback": [
      "  \u001b[36mCell\u001b[39m\u001b[36m \u001b[39m\u001b[32mIn[24]\u001b[39m\u001b[32m, line 2\u001b[39m\n\u001b[31m    \u001b[39m\u001b[31mPython is High level genral purpose language.\u001b[39m\n    ^\n\u001b[31mIndentationError\u001b[39m\u001b[31m:\u001b[39m unexpected indent\n"
     ]
    }
   ],
   "source": [
    "\n",
    "#_01_What is Python, and why is it popular\n",
    "   Python is High level genral purpose language.\n",
    "   It is popular because of it's simple syntax structure, easy to use and a lot of prdefined module. \n",
    "\n",
    "\n",
    "#_02_What is an interpreter in Python\n",
    "   As we know \"interpreter\" checks code line by line.\n",
    "   An interpreter in Python is a program that executes Python code line by line.\n",
    "   Unlike compiled languages (such as C or Java, which require code to be compiled before execution), Python directly executes the code without converting it into machine language beforehand.\n",
    "\n",
    "   \n",
    "#3_What are pre-defined keywords in Python\n",
    "   python pre-defined keywords are the special words which is fixed means meaninf can not be used as a variable name,function name and identifiers.\n",
    "   python keywords are break, class, continue, def, del, elif, else, except, finally, for, from, global, if, import, in, is, lambda, nonlocal, not, or, pass, raise, return, try, while, with, yield.\n",
    "\n",
    "   \n",
    "#4_Can keywords be used as variable names\n",
    "   No, We can not be used keywors as variable names because keywords are reserve word or fixed words.\n",
    "\n",
    "\n",
    "#5_What is mutability in Python\n",
    "   Mutability in python states that we can change the states of object(data) after it is created.\n",
    "   Example list,set,dictionary are support mutability properties of python\n",
    "\n",
    "\n",
    "#6_Why are lists mutable, but tuples are immutable\n",
    "   Lists are mutable because list data structure supports append(), remove(), and pop() methonds.\n",
    "   But tuple are immtable because it does not suppot the append(), remove(), and pop() methods\n",
    "\n",
    "   \n",
    "#7_What is the difference between “==” and “is” operators in Python\n",
    "   --In python,== and is both are comparision operator. But their working purpose is different.\n",
    "   --\"==\":Equality Operator\n",
    "      It checks if values of two objects are the same and not the memory locations.\n",
    "   --\"is\":Identifying Operator\n",
    "      it checks if two variables reference the same object in memory.\n",
    "   Example:a = [1, 2, 3]\n",
    "   b = [1, 2, 3]\n",
    "   print(a == b)  #  True (same values)\n",
    "   print(a is b)  #  False (different memory locations)\n",
    "\n",
    "\n",
    "#8_What are logical operators in Python\n",
    "   And(&), OR(|) and NOT(!) are the logical operator in python.\n",
    "   Logical operators in python are used for the combining two conditional statements where it returns result in Boolean form(True , False).\n",
    "\n",
    "\n",
    "#9_What is type casting in Python\n",
    "   Type casting is also known as \"type conversion\".\n",
    "   Type casting in python is converting one datatype into another.\n",
    "   There are two types of type casting process:\n",
    "      Implicit type casting\n",
    "      Explicit type casting\n",
    "   We use type() function for type casting.\n",
    "\n",
    "\n",
    "#10_What is the difference between implicit and explicit type casting\n",
    "   Implicit type casting:\n",
    "   Python automatically converts one data type to another.\n",
    "   Example:\n",
    "   a = 10    # Integer\n",
    "   b = 2.5   # Float\n",
    "   result = a + b  # Integer is automatically converted to float\n",
    "   print(result)   # Output: 12.5\n",
    "   print(type(result))  # Output: <class 'float'>\n",
    "\n",
    "   Explicit type casting:\n",
    "   The programmer manually converts a data type using built-in functions.\n",
    "   int() → Converts to integer\n",
    "   float() → Converts to float\n",
    "   str() → Converts to string\n",
    "   list() → Converts to list\n",
    "   tuple() → Converts to tuple\n",
    "   set() → Converts to set\n",
    "   Example:\n",
    "   num = 5.7\n",
    "   int_num = int(num)  # Explicit conversion\n",
    "   print(int_num)  # Output: 5\n",
    "   print(type(int_num))  # Output: <class 'int'>\n",
    "\n",
    "\n",
    "#11_What is the purpose of conditional statements in Python\n",
    "   Conditional statements are used to control the flow of execution in a program by allowing decisions to be made based on conditions.\n",
    "   Conditional Statements in Python:\n",
    "   if Statement – Executes a block if the condition is True.\n",
    "   if-else Statement – Executes one block if True, another if False.\n",
    "   if-elif-else Statement – Checks multiple conditions in sequence.\n",
    "   Nested if Statements – if inside another if for complex decisions.\n",
    "\n",
    "   \n",
    "#12_How does the elif statement work\n",
    "   The elif statement (short for \"else if\") is used when you need to check multiple conditions in sequence. It allows a program to execute different blocks of code based on various conditions.\n",
    "   Example:\n",
    "   age = 16\n",
    "   if age >= 18:\n",
    "      print(\"You can vote.\")\n",
    "   elif age >= 16:\n",
    "      print(\"You can drive.\")  # Runs because age is 16\n",
    "   else:\n",
    "      print(\"You are too young.\")\n",
    "\n",
    "\n",
    "#13_What is the difference between for and while loops\n",
    "   FOR LOOP:\n",
    "   Used when the number of iterations is known.\n",
    "   Stops when the sequence ends.\n",
    "   Example:\n",
    "   for i in range(1, 6):  \n",
    "      print(i)\n",
    "\n",
    "   WHILE LOOP:\n",
    "   Used when the number of iterations is unknown and depends on a condition.\n",
    "   Stops when the condition becomes False.\n",
    "   Example:\n",
    "   i = 1\n",
    "   while i <= 5:\n",
    "      print(i)\n",
    "      i += 1  # Manual increment\n",
    "\n",
    "\n",
    "#14_Describe a scenario where a while loop is more suitable than a for loop.\n",
    "   A while loop is more suitable when we don’t know in advance how many times the loop should run.\n",
    "   Scenario: User Input Validation\n",
    "  \n",
    "   num = -1  # Initialize with an invalid value\n",
    "   while num <= 0:\n",
    "      num = int(input(\"Enter a positive number: \"))\n",
    "\n",
    "   print(f\"Valid number entered: {num}\")    "
   ]
  },
  {
   "cell_type": "code",
   "execution_count": null,
   "id": "e1724192-ca4d-47f7-8706-a03d23e8c39b",
   "metadata": {},
   "outputs": [],
   "source": []
  },
  {
   "cell_type": "code",
   "execution_count": 1,
   "id": "f7aa8d55-e175-44b2-8621-e20f996c716f",
   "metadata": {},
   "outputs": [],
   "source": [
    "#******************* Python Basics  Practical Questions And Answer ****************************"
   ]
  },
  {
   "cell_type": "code",
   "execution_count": 2,
   "id": "09b66bc2-3a6c-409b-b406-ced93c7df89d",
   "metadata": {},
   "outputs": [
    {
     "name": "stdout",
     "output_type": "stream",
     "text": [
      "Hello, World!\n"
     ]
    }
   ],
   "source": [
    "#1_ Write a Python program to print \"Hello, World!\"\n",
    "\n",
    "print(\"Hello, World!\")"
   ]
  },
  {
   "cell_type": "code",
   "execution_count": 3,
   "id": "48f679c3-97d3-47cd-b46b-e9a91918ef6f",
   "metadata": {},
   "outputs": [
    {
     "name": "stdout",
     "output_type": "stream",
     "text": [
      "My name is Tirtha Sahu and age is 24\n"
     ]
    }
   ],
   "source": [
    "#2_Write a Python program that displays your name and age.\n",
    "\n",
    "name=\"Tirtha Sahu\"\n",
    "age=24\n",
    "print(f\"My name is {name} and age is {age}\")\n"
   ]
  },
  {
   "cell_type": "code",
   "execution_count": 4,
   "id": "3d40f7e5-d6d7-4253-a0af-0efd5ddafdde",
   "metadata": {},
   "outputs": [
    {
     "name": "stdout",
     "output_type": "stream",
     "text": [
      "********Bellow are the Python keyword List:********\n",
      "False\n",
      "None\n",
      "True\n",
      "and\n",
      "as\n",
      "assert\n",
      "async\n",
      "await\n",
      "break\n",
      "class\n",
      "continue\n",
      "def\n",
      "del\n",
      "elif\n",
      "else\n",
      "except\n",
      "finally\n",
      "for\n",
      "from\n",
      "global\n",
      "if\n",
      "import\n",
      "in\n",
      "is\n",
      "lambda\n",
      "nonlocal\n",
      "not\n",
      "or\n",
      "pass\n",
      "raise\n",
      "return\n",
      "try\n",
      "while\n",
      "with\n",
      "yield\n"
     ]
    }
   ],
   "source": [
    "#3_Write code to print all the pre-defined keywords in Python using the keyword library\n",
    "\n",
    "import keyword\n",
    "\n",
    "keyword_list=keyword.kwlist\n",
    "\n",
    "print(\"********Bellow are the Python keyword List:********\")\n",
    "for kw in keyword_list:\n",
    "    print(kw)"
   ]
  },
  {
   "cell_type": "code",
   "execution_count": 5,
   "id": "bab243f5-eaa2-46b6-aa06-069175598dac",
   "metadata": {},
   "outputs": [
    {
     "name": "stdin",
     "output_type": "stream",
     "text": [
      "Enter the word :  none\n"
     ]
    },
    {
     "name": "stdout",
     "output_type": "stream",
     "text": [
      "none is not a python keyword.\n"
     ]
    }
   ],
   "source": [
    "#4_Write a program that checks if a given word is a Python keyword\n",
    "\n",
    "import keyword\n",
    "\n",
    "keyword_list=keyword.kwlist\n",
    "check_word=input(\"Enter the word : \")\n",
    "\n",
    "if check_word in keyword_list:\n",
    "    print(check_word,\"is a python keyword.\")\n",
    "else:\n",
    "    print(check_word,\"is not a python keyword.\")"
   ]
  },
  {
   "cell_type": "code",
   "execution_count": 6,
   "id": "090f189e-8cbc-4b23-accd-aaa1da7d3b55",
   "metadata": {},
   "outputs": [
    {
     "name": "stdout",
     "output_type": "stream",
     "text": [
      "Befor modification of mylist:  [143, 143.13, 'SBS', True]\n",
      "After modification of mylist:  [143, 143.13, 'Sbs Sahu', True]\n",
      "Lists are mutable in nature \n",
      "\n",
      "Befor modification of mytuple:  (143.143, 112, 'sbs', False)\n",
      "Error: 'tuple' object does not support item assignment\n",
      "Tuples are immutable in nature \n"
     ]
    }
   ],
   "source": [
    "#5_ Create a list and tuple in Python, and demonstrate how attempting to change an element works differently for each.\n",
    "\n",
    "mylist=[143,143.13,\"SBS\",True]\n",
    "print(\"Befor modification of mylist: \",mylist)\n",
    "mylist[2]=\"Sbs Sahu\"\n",
    "print(\"After modification of mylist: \",mylist)\n",
    "print(\"Lists are mutable in nature \")\n",
    "print()\n",
    "myTuple=(143.143,112,\"sbs\",False)\n",
    "print(\"Befor modification of mytuple: \",myTuple)\n",
    "\n",
    "try:\n",
    "    myTuple[1] = 99  # This will raise an error\n",
    "except TypeError as e:\n",
    "    print(\"Error:\", e)\n",
    "print(\"Tuples are immutable in nature \")"
   ]
  },
  {
   "cell_type": "code",
   "execution_count": 7,
   "id": "44936e0d-6f1f-4bd6-b415-df26008c0c6e",
   "metadata": {},
   "outputs": [
    {
     "name": "stdout",
     "output_type": "stream",
     "text": [
      "Inside function (immutable_var): 15\n",
      "Inside function (mutable_var): [1, 2, 3, 4]\n",
      "\n",
      "Outside function (num): 5\n",
      "Outside function (num_list): [1, 2, 3, 4]\n"
     ]
    }
   ],
   "source": [
    "#_6 Write a function to demonstrate the behavior of mutable and immutable arguments.\n",
    "\n",
    "def modify_values(immutable_var, mutable_var):\n",
    "    immutable_var += 10  \n",
    "    print(\"Inside function (immutable_var):\", immutable_var)\n",
    "    \n",
    "    mutable_var.append(4)  \n",
    "    print(\"Inside function (mutable_var):\", mutable_var)\n",
    "\n",
    "num = 5\n",
    "\n",
    "num_list = [1, 2, 3]\n",
    "\n",
    "modify_values(num, num_list)\n",
    "\n",
    "# Check values after function call\n",
    "print(\"\\nOutside function (num):\", num)  # Immutable, remains unchanged\n",
    "print(\"Outside function (num_list):\", num_list)  # Mutable, modified\n"
   ]
  },
  {
   "cell_type": "code",
   "execution_count": 8,
   "id": "c58aad4a-ce46-4a5e-a270-b9c065e60454",
   "metadata": {},
   "outputs": [
    {
     "name": "stdin",
     "output_type": "stream",
     "text": [
      "Enter the number1:  10\n",
      "Enter the number2:  20\n"
     ]
    },
    {
     "name": "stdout",
     "output_type": "stream",
     "text": [
      "*****The following are the basic arithmetic operations*****\n",
      "Addition of two numbers:  30\n",
      "Substration of two numbers:  -10\n",
      "Multiplication of two numbers:  200\n",
      "Division of two numbers:  0.5\n",
      "Reminder:  10\n"
     ]
    }
   ],
   "source": [
    "#_7 Write a program that performs basic arithmetic operations on two user-input numbers.\n",
    "num1=int(input(\"Enter the number1: \"))\n",
    "num2=int(input(\"Enter the number2: \"))\n",
    "\n",
    "print(\"*****The following are the basic arithmetic operations*****\")\n",
    "print(\"Addition of two numbers: \",(num1+num2))  #Addition\n",
    "print(\"Substration of two numbers: \",(num1-num2))  #Substartion\n",
    "print(\"Multiplication of two numbers: \",(num1*num2)) #Multiplication\n",
    "print(\"Division of two numbers: \",(num1/num2))  #Division\n",
    "print(\"Reminder: \",(num1%num2))  #Reminder\n"
   ]
  },
  {
   "cell_type": "code",
   "execution_count": 9,
   "id": "1535ffa1-088c-4f0c-9d71-0adcd3a8303e",
   "metadata": {},
   "outputs": [
    {
     "name": "stdout",
     "output_type": "stream",
     "text": [
      "Logical AND:\n",
      "a and b: False\n",
      "\n",
      "Logical OR:\n",
      "a or b: True\n",
      "\n",
      "Logical NOT:\n",
      "not a: False\n",
      "not b: True\n"
     ]
    }
   ],
   "source": [
    "#_8 Write a program to demonstrate the use of logical operators.\n",
    "\n",
    "a = True\n",
    "b = False\n",
    "\n",
    "print(\"Logical AND:\")\n",
    "print(\"a and b:\", a and b) \n",
    "\n",
    "print(\"\\nLogical OR:\")\n",
    "print(\"a or b:\", a or b)\n",
    "\n",
    "print(\"\\nLogical NOT:\")\n",
    "print(\"not a:\", not a)  \n",
    "print(\"not b:\", not b)"
   ]
  },
  {
   "cell_type": "code",
   "execution_count": 10,
   "id": "14ecdc7a-f56f-41c2-8fab-f2cada967623",
   "metadata": {},
   "outputs": [
    {
     "name": "stdin",
     "output_type": "stream",
     "text": [
      "Enter the data:  34\n"
     ]
    },
    {
     "name": "stdout",
     "output_type": "stream",
     "text": [
      "Data is : 34 and the type of data is <class 'str'>\n",
      "*****After Conversion*****\n",
      "String to interger :  <class 'int'>\n",
      "String to float :  <class 'float'>\n",
      "String to float :  <class 'bool'>\n"
     ]
    }
   ],
   "source": [
    "#_9 Write a Python program to convert user input from string to integer, float, and boolean types.\n",
    "\n",
    "user_input=input(\"Enter the data: \")\n",
    "print(f\"Data is : {user_input} and the type of data is {type(user_input)}\")\n",
    "\n",
    "print(\"*****After Conversion*****\")\n",
    "\n",
    "string_to_integer=int(user_input)\n",
    "print(\"String to interger : \",type(string_to_integer))\n",
    "\n",
    "string_to_float=float(user_input)\n",
    "print(\"String to float : \",type(string_to_float))\n",
    "\n",
    "string_to_boolean=bool(user_input)\n",
    "print(\"String to float : \",type(string_to_boolean))\n"
   ]
  },
  {
   "cell_type": "code",
   "execution_count": 11,
   "id": "4ca82162-1610-45df-90cb-3a7b8064aed4",
   "metadata": {},
   "outputs": [
    {
     "name": "stdout",
     "output_type": "stream",
     "text": [
      "Original List: ['10', '20', '30', 40, 50.5, True, '60.7']\n",
      "Integer List: [10, 20, 30, 40, 50, 1, 60]\n",
      "Float List: [10.0, 20.0, 30.0, 40.0, 50.5, 1.0, 60.7]\n",
      "String List: ['10', '20', '30', '40', '50.5', 'True', '60.7']\n",
      "Boolean List: [True, True, True, True, True, True, True]\n"
     ]
    }
   ],
   "source": [
    "#_10 Write code to demonstrate type casting with list elements.\n",
    "\n",
    "data = [\"10\", \"20\", \"30\", 40, 50.5, True, \"60.7\"]\n",
    "\n",
    "int_list = [int(float(x)) for x in data]  # Convert all to integers\n",
    "float_list = [float(x) for x in data]     # Convert all to floats\n",
    "str_list = [str(x) for x in data]         # Convert all to strings\n",
    "bool_list = [bool(x) for x in data]       # Convert all to booleans\n",
    "\n",
    "print(\"Original List:\", data)\n",
    "print(\"Integer List:\", int_list)\n",
    "print(\"Float List:\", float_list)\n",
    "print(\"String List:\", str_list)\n",
    "print(\"Boolean List:\", bool_list)\n",
    "\n",
    "\n"
   ]
  },
  {
   "cell_type": "code",
   "execution_count": 12,
   "id": "ac24c988-910a-4bd5-bf58-cbd67e907dc5",
   "metadata": {},
   "outputs": [
    {
     "name": "stdin",
     "output_type": "stream",
     "text": [
      "Enter the number:  34\n"
     ]
    },
    {
     "name": "stdout",
     "output_type": "stream",
     "text": [
      "Number is positive...\n"
     ]
    }
   ],
   "source": [
    "#_11 Write a program that checks if a number is positive, negative, or zero.\n",
    "\n",
    "number=int(input(\"Enter the number: \"))\n",
    "\n",
    "if number>0:\n",
    "    print(\"Number is positive...\")\n",
    "elif number<0:\n",
    "    print(\"Number is negative...\")\n",
    "else:\n",
    "    print(\"Number is zero\")\n"
   ]
  },
  {
   "cell_type": "code",
   "execution_count": 13,
   "id": "fdb85e8c-f398-4794-9494-cc5861f49e2c",
   "metadata": {},
   "outputs": [
    {
     "name": "stdout",
     "output_type": "stream",
     "text": [
      "1\n",
      "2\n",
      "3\n",
      "4\n",
      "5\n",
      "6\n",
      "7\n",
      "8\n",
      "9\n",
      "10\n"
     ]
    }
   ],
   "source": [
    "#_12 Write a for loop to print numbers from 1 to 10.\n",
    "\n",
    "for i in range(1,11):\n",
    "    print(i)"
   ]
  },
  {
   "cell_type": "code",
   "execution_count": 14,
   "id": "a84902d9-e1c5-4042-8f39-164cf4b4981b",
   "metadata": {},
   "outputs": [
    {
     "name": "stdout",
     "output_type": "stream",
     "text": [
      "The sum of all even numbers between 1 and 50:  650\n"
     ]
    }
   ],
   "source": [
    "#_13 Write a Python program to find the sum of all even numbers between 1 and 50.\n",
    "\n",
    "sum_of_even_num=0\n",
    "for i in range(1,51):\n",
    "    if i%2==0:\n",
    "        sum_of_even_num=sum_of_even_num+i\n",
    "print(\"The sum of all even numbers between 1 and 50: \",sum_of_even_num)"
   ]
  },
  {
   "cell_type": "code",
   "execution_count": 15,
   "id": "52c044bd-2b0c-41aa-a880-1c8368678815",
   "metadata": {},
   "outputs": [
    {
     "name": "stdin",
     "output_type": "stream",
     "text": [
      "Enter the String:  34\n"
     ]
    },
    {
     "name": "stdout",
     "output_type": "stream",
     "text": [
      "string Before Reverse:  34\n",
      "string After Reverse:  43\n"
     ]
    }
   ],
   "source": [
    "#_14 Write a program to reverse a string using a while loop.\n",
    "\n",
    "user_string=input(\"Enter the String: \")\n",
    "rev_string=\"\"\n",
    "i=len(user_string)-1\n",
    "\n",
    "while i>=0:\n",
    "    rev_string +=user_string[i]\n",
    "    i-=1\n",
    "\n",
    "print(\"string Before Reverse: \",user_string)\n",
    "print(\"string After Reverse: \",rev_string)"
   ]
  },
  {
   "cell_type": "code",
   "execution_count": 16,
   "id": "c45c16a4-9efa-4816-af36-eeb18aa54804",
   "metadata": {},
   "outputs": [
    {
     "name": "stdin",
     "output_type": "stream",
     "text": [
      "Enter a numbe:  5\n"
     ]
    },
    {
     "name": "stdout",
     "output_type": "stream",
     "text": [
      "Factorial of the given number is :  120\n"
     ]
    }
   ],
   "source": [
    "#_15 Write a Python program to calculate the factorial of a number provided by the user using a while loop.\n",
    "\n",
    "n=int(input(\"Enter a numbe: \"))\n",
    "factorial=1\n",
    "i=1\n",
    "while i<=n:\n",
    "    factorial=factorial*i\n",
    "    i=i+1\n",
    "    \n",
    "print(\"Factorial of the given number is : \",factorial)\n"
   ]
  },
  {
   "cell_type": "code",
   "execution_count": null,
   "id": "0eb63c30-3b80-4edc-9180-3a835806b686",
   "metadata": {},
   "outputs": [],
   "source": []
  }
 ],
 "metadata": {
  "kernelspec": {
   "display_name": "Python 3 (ipykernel)",
   "language": "python",
   "name": "python3"
  },
  "language_info": {
   "codemirror_mode": {
    "name": "ipython",
    "version": 3
   },
   "file_extension": ".py",
   "mimetype": "text/x-python",
   "name": "python",
   "nbconvert_exporter": "python",
   "pygments_lexer": "ipython3",
   "version": "3.13.1"
  }
 },
 "nbformat": 4,
 "nbformat_minor": 5
}
